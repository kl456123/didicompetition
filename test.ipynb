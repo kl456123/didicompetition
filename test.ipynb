{
 "cells": [
  {
   "cell_type": "code",
   "execution_count": 1,
   "metadata": {
    "collapsed": false
   },
   "outputs": [
    {
     "name": "stdout",
     "output_type": "stream",
     "text": [
      "Using matplotlib backend: Qt4Agg\n",
      "Populating the interactive namespace from numpy and matplotlib\n"
     ]
    },
    {
     "name": "stderr",
     "output_type": "stream",
     "text": [
      "WARNING: pylab import has clobbered these variables: ['info', 'datetime', 'test', 'unique']\n",
      "`%matplotlib` prevents importing * from pylab and numpy\n"
     ]
    }
   ],
   "source": [
    "import pandas as pd\n",
    "from pandas import *\n",
    "import numpy as np\n",
    "import matplotlib.pyplot as plt\n",
    "import math\n",
    "%pylab\n",
    "%matplotlib inline"
   ]
  },
  {
   "cell_type": "code",
   "execution_count": 3,
   "metadata": {
    "collapsed": false
   },
   "outputs": [],
   "source": [
    "path = './season_1/test_set_1/order_data/'\n",
    "filename = 'order_data_2016-01-22_test'\n",
    "orders = pd.read_table(path+filename, names=['order_id', 'driver_id','passenger_id','start_district_hash','dest_district_hash','Price','Time'])"
   ]
  },
  {
   "cell_type": "code",
   "execution_count": 5,
   "metadata": {
    "collapsed": false
   },
   "outputs": [
    {
     "data": {
      "text/html": [
       "<div>\n",
       "<table border=\"1\" class=\"dataframe\">\n",
       "  <thead>\n",
       "    <tr style=\"text-align: right;\">\n",
       "      <th></th>\n",
       "      <th>order_id</th>\n",
       "      <th>driver_id</th>\n",
       "      <th>passenger_id</th>\n",
       "      <th>start_district_hash</th>\n",
       "      <th>dest_district_hash</th>\n",
       "      <th>Price</th>\n",
       "      <th>Time</th>\n",
       "    </tr>\n",
       "  </thead>\n",
       "  <tbody>\n",
       "    <tr>\n",
       "      <th>0</th>\n",
       "      <td>e37f842c2a37de68e16466a3c56b916b</td>\n",
       "      <td>NaN</td>\n",
       "      <td>5903295e07afb893e1a0f7073965515d</td>\n",
       "      <td>b05379ac3f9b7d99370d443cfd5dcc28</td>\n",
       "      <td>82cc4851f9e4faa4e54309f8bb73fd7c</td>\n",
       "      <td>7.0</td>\n",
       "      <td>2016-01-22 17:19:43</td>\n",
       "    </tr>\n",
       "    <tr>\n",
       "      <th>1</th>\n",
       "      <td>62588e55ff8892ba38a0bbe5678be272</td>\n",
       "      <td>53919c82b12bd39b12d77d4d8db1dda1</td>\n",
       "      <td>5903295e07afb893e1a0f7073965515d</td>\n",
       "      <td>b05379ac3f9b7d99370d443cfd5dcc28</td>\n",
       "      <td>82cc4851f9e4faa4e54309f8bb73fd7c</td>\n",
       "      <td>12.0</td>\n",
       "      <td>2016-01-22 17:19:43</td>\n",
       "    </tr>\n",
       "    <tr>\n",
       "      <th>2</th>\n",
       "      <td>693194e4d57cdd500e793c0c1e4f7a93</td>\n",
       "      <td>19f5ba02d33855688b727e39c98b2939</td>\n",
       "      <td>dbea2d56b9fcacf8b18c40a4f34fbbf2</td>\n",
       "      <td>62afaf3288e236b389af9cfdc5206415</td>\n",
       "      <td>62afaf3288e236b389af9cfdc5206415</td>\n",
       "      <td>18.0</td>\n",
       "      <td>2016-01-22 11:00:05</td>\n",
       "    </tr>\n",
       "    <tr>\n",
       "      <th>3</th>\n",
       "      <td>3a0c651d2558d9083a66fc179e3ba81c</td>\n",
       "      <td>NaN</td>\n",
       "      <td>4b9957e8fb4d8cf981560e2a512aa598</td>\n",
       "      <td>d4ec2125aff74eded207d2d915ef682f</td>\n",
       "      <td>d1ab2cc538d518758a1a82b1787592d4</td>\n",
       "      <td>36.0</td>\n",
       "      <td>2016-01-22 17:00:42</td>\n",
       "    </tr>\n",
       "    <tr>\n",
       "      <th>4</th>\n",
       "      <td>68b7cec210c7f875b79ce32dab7195ea</td>\n",
       "      <td>NaN</td>\n",
       "      <td>4b9957e8fb4d8cf981560e2a512aa598</td>\n",
       "      <td>d4ec2125aff74eded207d2d915ef682f</td>\n",
       "      <td>d1ab2cc538d518758a1a82b1787592d4</td>\n",
       "      <td>36.0</td>\n",
       "      <td>2016-01-22 17:00:42</td>\n",
       "    </tr>\n",
       "  </tbody>\n",
       "</table>\n",
       "</div>"
      ],
      "text/plain": [
       "                           order_id                         driver_id  \\\n",
       "0  e37f842c2a37de68e16466a3c56b916b                               NaN   \n",
       "1  62588e55ff8892ba38a0bbe5678be272  53919c82b12bd39b12d77d4d8db1dda1   \n",
       "2  693194e4d57cdd500e793c0c1e4f7a93  19f5ba02d33855688b727e39c98b2939   \n",
       "3  3a0c651d2558d9083a66fc179e3ba81c                               NaN   \n",
       "4  68b7cec210c7f875b79ce32dab7195ea                               NaN   \n",
       "\n",
       "                       passenger_id               start_district_hash  \\\n",
       "0  5903295e07afb893e1a0f7073965515d  b05379ac3f9b7d99370d443cfd5dcc28   \n",
       "1  5903295e07afb893e1a0f7073965515d  b05379ac3f9b7d99370d443cfd5dcc28   \n",
       "2  dbea2d56b9fcacf8b18c40a4f34fbbf2  62afaf3288e236b389af9cfdc5206415   \n",
       "3  4b9957e8fb4d8cf981560e2a512aa598  d4ec2125aff74eded207d2d915ef682f   \n",
       "4  4b9957e8fb4d8cf981560e2a512aa598  d4ec2125aff74eded207d2d915ef682f   \n",
       "\n",
       "                 dest_district_hash  Price                 Time  \n",
       "0  82cc4851f9e4faa4e54309f8bb73fd7c    7.0  2016-01-22 17:19:43  \n",
       "1  82cc4851f9e4faa4e54309f8bb73fd7c   12.0  2016-01-22 17:19:43  \n",
       "2  62afaf3288e236b389af9cfdc5206415   18.0  2016-01-22 11:00:05  \n",
       "3  d1ab2cc538d518758a1a82b1787592d4   36.0  2016-01-22 17:00:42  \n",
       "4  d1ab2cc538d518758a1a82b1787592d4   36.0  2016-01-22 17:00:42  "
      ]
     },
     "execution_count": 5,
     "metadata": {},
     "output_type": "execute_result"
    }
   ],
   "source": [
    "orders.head()"
   ]
  },
  {
   "cell_type": "code",
   "execution_count": null,
   "metadata": {
    "collapsed": true
   },
   "outputs": [],
   "source": []
  }
 ],
 "metadata": {
  "kernelspec": {
   "display_name": "Python 2",
   "language": "python",
   "name": "python2"
  },
  "language_info": {
   "codemirror_mode": {
    "name": "ipython",
    "version": 2
   },
   "file_extension": ".py",
   "mimetype": "text/x-python",
   "name": "python",
   "nbconvert_exporter": "python",
   "pygments_lexer": "ipython2",
   "version": "2.7.11"
  }
 },
 "nbformat": 4,
 "nbformat_minor": 0
}
