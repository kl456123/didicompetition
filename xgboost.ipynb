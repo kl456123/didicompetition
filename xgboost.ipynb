{
 "cells": [
  {
   "cell_type": "code",
   "execution_count": 2,
   "metadata": {
    "collapsed": false
   },
   "outputs": [],
   "source": [
    "import xgboost as xgb\n",
    "import pandas as pd\n",
    "from pandas import *\n",
    "import numpy as np\n",
    "import matplotlib.pyplot as plt\n",
    "import math\n",
    "from IPython.display import display, HTML\n",
    "# %pylab\n",
    "%matplotlib inline"
   ]
  },
  {
   "cell_type": "code",
   "execution_count": 6,
   "metadata": {
    "collapsed": false
   },
   "outputs": [],
   "source": [
    "# read data\n",
    "def read(path,filename,names):\n",
    "    data = pd.read_table(path+filename, names=names)\n",
    "    return data\n",
    "def dictFactory(data,keyName,valueName):\n",
    "    dic = {}\n",
    "    for i in range(0,data[keyName].size):\n",
    "        dic[data[keyName][i]]=data[valueName][i]\n",
    "    return dic\n"
   ]
  },
  {
   "cell_type": "code",
   "execution_count": 26,
   "metadata": {
    "collapsed": false
   },
   "outputs": [],
   "source": [
    "# read cluster_map from file\n",
    "def readCluster():  \n",
    "    clusterName = ['district_hash','district_id']\n",
    "    clusterPath = './season_1/training_data/cluster_map/'\n",
    "    clusterFilename = 'cluster_map'\n",
    "    cluster = read(clusterPath,clusterFilename,clusterName)\n",
    "    return cluster\n",
    "\n",
    "# read orders\n",
    "def readOrders(ordersFilename):\n",
    "    ordersPath = './season_1/training_data/order_data/'\n",
    "#     ordersFilename = 'order_data_2016-01-08'\n",
    "    names = ['order_id', 'driver_id','passenger_id','start_district_hash','dest_district_hash','Price','Time']\n",
    "    orders = read(ordersPath,ordersFilename,names)\n",
    "    return orders\n",
    "\n",
    "def readWeather():\n",
    "    weatherPath = './season_1/training_data/weather_data/'\n",
    "    weatherFilename = 'weather_data_2016-01-08'\n",
    "    names = ['Time','Weather','temperature','PM2.5']\n",
    "    weather = read(weatherPath,weatherFilename,names)\n",
    "    return weather"
   ]
  },
  {
   "cell_type": "code",
   "execution_count": 28,
   "metadata": {
    "collapsed": false
   },
   "outputs": [],
   "source": [
    "# load data \n",
    "# orders = readOrders()\n",
    "# cluster_map = readCluster()\n",
    "# weather = readWeather()"
   ]
  },
  {
   "cell_type": "code",
   "execution_count": 29,
   "metadata": {
    "collapsed": true
   },
   "outputs": [],
   "source": [
    "# data must be orders\n",
    "def replaceDistHash(orders):\n",
    "    start_id = []\n",
    "    dest_id = []\n",
    "    rows = orders.shape[0]\n",
    "    dic = dictFactory(cluster_map,'district_hash','district_id')\n",
    "    for i in range(0,rows):\n",
    "        start_id.append(dic[orders.start_district_hash[i]])\n",
    "        dest_id.append(dic.get(orders.dest_district_hash[i]))\n",
    "    orders['start_id'] = Series(start_id)\n",
    "    orders['dest_id'] = Series(dest_id)\n",
    "    orders.drop(['start_district_hash','dest_district_hash'],inplace=True,axis=1)\n",
    "    return orders\n"
   ]
  },
  {
   "cell_type": "code",
   "execution_count": 30,
   "metadata": {
    "collapsed": false
   },
   "outputs": [],
   "source": [
    "# orders = replaceDistHash(orders)\n",
    "# orders.head()"
   ]
  },
  {
   "cell_type": "code",
   "execution_count": 40,
   "metadata": {
    "collapsed": false
   },
   "outputs": [],
   "source": [
    "class Orders():\n",
    "    def __init__(self,ordersFilename):\n",
    "        self.orders = readOrders(ordersFilename)\n",
    "        self.success = 0\n",
    "        self.rows = self.orders.shape[0]\n",
    "    def replaceDistHash(self):\n",
    "        self.orders = replaceDistHash(self.orders)\n",
    "    \n",
    "    def count():\n",
    "        pass\n",
    "    \n",
    "    def addTimeId(self):\n",
    "        stamp = self.orders['Time']\n",
    "        _datetime = pd.DatetimeIndex(stamp)\n",
    "        _tmp = _datetime.hour * 60 + _datetime.minute\n",
    "        self.orders['TimeId'] = _tmp/10\n",
    "        self.orders.drop('Time',inplace=True,axis = 1)\n",
    "    def addWeekday():\n",
    "        \n",
    "        pass\n",
    "    def deleteHash(self,names):\n",
    "        self.orders.drop(names,inplace=True,axis=1)\n",
    "        \n",
    "    def getLabel(self):\n",
    "        label = {}\n",
    "        driver_id = self.orders['driver_id']\n",
    "        for i in range(0,self.rows):\n",
    "            if driver_id.iloc[i]==driver_id.iloc[i]:\n",
    "                label[i] = 1\n",
    "            else:\n",
    "                label[i] = 0\n",
    "        self.label = DataFrame(label,index=['label']).transpose()"
   ]
  },
  {
   "cell_type": "code",
   "execution_count": 36,
   "metadata": {
    "collapsed": true
   },
   "outputs": [],
   "source": [
    "# extract feature\n",
    "def prepareData(filename):\n",
    "    orders = Orders(filename)\n",
    "    orders.addTimeId()\n",
    "    orders.replaceDistHash()\n",
    "    orders.getLabel()\n",
    "    orders.deleteHash(['order_id','passenger_id','driver_id'])\n",
    "    return orders\n",
    "# load data to xgb\n",
    "def loadData(filename):\n",
    "    orders = prepareData(filename)\n",
    "    ordersArray = orders.orders.as_matrix()\n",
    "    labelArray = orders.label.as_matrix()\n",
    "    dtrain = xgb.DMatrix(ordersArray,label =labelArray)\n",
    "    return dtrain\n"
   ]
  },
  {
   "cell_type": "code",
   "execution_count": 38,
   "metadata": {
    "collapsed": false
   },
   "outputs": [],
   "source": [
    "# load data to xgboost \n",
    "\n",
    "dtrain = loadData('order_data_2016-01-15')\n",
    "dtest = loadData('order_data_2016-01-08')"
   ]
  },
  {
   "cell_type": "code",
   "execution_count": 47,
   "metadata": {
    "collapsed": true
   },
   "outputs": [],
   "source": [
    "param = {'max_depth':4, 'eta':1, 'silent':1, 'objective':'binary:logistic' }\n",
    "num_round = 2\n",
    "bst = xgb.train(param, dtrain, num_round)\n",
    "\n",
    "preds = bst.predict(dtest)"
   ]
  },
  {
   "cell_type": "code",
   "execution_count": 48,
   "metadata": {
    "collapsed": false
   },
   "outputs": [
    {
     "name": "stdout",
     "output_type": "stream",
     "text": [
      "error=0.142761\n"
     ]
    }
   ],
   "source": [
    "# get error\n",
    "labels = dtest.get_label()\n",
    "print ('error=%f' % ( sum(1 for i in range(len(preds)) if int(preds[i]>0.5)!=labels[i]) /float(len(preds))))"
   ]
  },
  {
   "cell_type": "code",
   "execution_count": null,
   "metadata": {
    "collapsed": true
   },
   "outputs": [],
   "source": []
  }
 ],
 "metadata": {
  "kernelspec": {
   "display_name": "Python 2",
   "language": "python",
   "name": "python2"
  },
  "language_info": {
   "codemirror_mode": {
    "name": "ipython",
    "version": 2
   },
   "file_extension": ".py",
   "mimetype": "text/x-python",
   "name": "python",
   "nbconvert_exporter": "python",
   "pygments_lexer": "ipython2",
   "version": "2.7.11"
  }
 },
 "nbformat": 4,
 "nbformat_minor": 0
}
